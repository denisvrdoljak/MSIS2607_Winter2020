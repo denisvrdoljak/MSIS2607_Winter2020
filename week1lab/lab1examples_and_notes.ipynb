{
 "cells": [
  {
   "cell_type": "code",
   "execution_count": null,
   "metadata": {},
   "outputs": [],
   "source": [
    "def fizzbuzz():\n",
    "    mynumber = input(\"Choose a number: \")\n",
    "    \n",
    "    "
   ]
  },
  {
   "cell_type": "code",
   "execution_count": 1,
   "metadata": {},
   "outputs": [
    {
     "name": "stdout",
     "output_type": "stream",
     "text": [
      "Choose a number: asdf\n",
      "That was not a number\n",
      "Choose a number: asdf\n",
      "That was not a number\n",
      "Choose a number: 123.123\n",
      "That was not a number\n",
      "Choose a number: 123\n"
     ]
    }
   ],
   "source": [
    "invalidinput = True\n",
    "while invalidinput:\n",
    "    mynumber = input(\"Choose a number: \")\n",
    "    if mynumber.isnumeric():\n",
    "        invalidinput = False\n",
    "    else:\n",
    "        print(\"That was not a number\")\n"
   ]
  },
  {
   "cell_type": "code",
   "execution_count": null,
   "metadata": {},
   "outputs": [],
   "source": []
  },
  {
   "cell_type": "code",
   "execution_count": null,
   "metadata": {},
   "outputs": [],
   "source": []
  }
 ],
 "metadata": {
  "kernelspec": {
   "display_name": "Python 3",
   "language": "python",
   "name": "python3"
  },
  "language_info": {
   "codemirror_mode": {
    "name": "ipython",
    "version": 3
   },
   "file_extension": ".py",
   "mimetype": "text/x-python",
   "name": "python",
   "nbconvert_exporter": "python",
   "pygments_lexer": "ipython3",
   "version": "3.7.4"
  }
 },
 "nbformat": 4,
 "nbformat_minor": 2
}
